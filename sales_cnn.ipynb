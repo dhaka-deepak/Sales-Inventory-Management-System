{
 "cells": [
  {
   "cell_type": "code",
   "execution_count": 1,
   "metadata": {},
   "outputs": [],
   "source": [
    "import pandas as pd\n",
    "import numpy as np\n",
    "from sklearn.model_selection import train_test_split\n",
    "from sklearn.preprocessing import StandardScaler\n",
    "from tensorflow.keras.models import Sequential\n",
    "from tensorflow.keras.layers import Conv1D, MaxPooling1D, Flatten, Dense"
   ]
  },
  {
   "cell_type": "code",
   "execution_count": 2,
   "metadata": {},
   "outputs": [],
   "source": [
    "df = pd.read_excel('sales_data.xlsx')"
   ]
  },
  {
   "cell_type": "code",
   "execution_count": 5,
   "metadata": {},
   "outputs": [],
   "source": [
    "# Remove trailing spaces from column names\n",
    "df.columns = df.columns.str.strip()\n",
    "\n",
    "# Extract relevant columns\n",
    "data = df[['ProductID', 'Quantity', 'Date and Time']]"
   ]
  },
  {
   "cell_type": "code",
   "execution_count": 6,
   "metadata": {},
   "outputs": [
    {
     "name": "stderr",
     "output_type": "stream",
     "text": [
      "C:\\Users\\Deepak Dhaka\\AppData\\Local\\Temp\\ipykernel_9196\\4210018612.py:2: SettingWithCopyWarning: \n",
      "A value is trying to be set on a copy of a slice from a DataFrame.\n",
      "Try using .loc[row_indexer,col_indexer] = value instead\n",
      "\n",
      "See the caveats in the documentation: https://pandas.pydata.org/pandas-docs/stable/user_guide/indexing.html#returning-a-view-versus-a-copy\n",
      "  data['Date and Time'] = pd.to_datetime(data['Date and Time'])\n"
     ]
    }
   ],
   "source": [
    "# Convert 'Date and Time' to datetime and set it as index\n",
    "data['Date and Time'] = pd.to_datetime(data['Date and Time'])\n",
    "data.set_index('Date and Time', inplace=True)"
   ]
  },
  {
   "cell_type": "code",
   "execution_count": 7,
   "metadata": {},
   "outputs": [],
   "source": [
    "# Resample the data to get total sales per day\n",
    "sales_per_day = data.groupby(['ProductID']).resample('D').sum()['Quantity']\n",
    "\n",
    "# Create sequences for each product\n",
    "sequence_length = 7  # You can adjust this based on your preference\n",
    "sequences = []\n",
    "\n",
    "for product_id, sales in sales_per_day.groupby('ProductID'):\n",
    "    for i in range(len(sales) - sequence_length):\n",
    "        sequence = sales.iloc[i:i + sequence_length]\n",
    "        sequences.append((product_id, np.array(sequence)))"
   ]
  },
  {
   "cell_type": "code",
   "execution_count": 8,
   "metadata": {},
   "outputs": [],
   "source": [
    "# Create features and labels\n",
    "X = np.array([seq[1] for seq in sequences])\n",
    "y = np.array([seq[1][-1] for seq in sequences])\n",
    "\n",
    "# Split the data into training and testing sets\n",
    "X_train, X_test, y_train, y_test = train_test_split(X, y, test_size=0.2, random_state=42)\n",
    "\n",
    "# Normalize the data\n",
    "scaler = StandardScaler()\n",
    "X_train_scaled = scaler.fit_transform(X_train)\n",
    "X_test_scaled = scaler.transform(X_test)\n",
    "\n",
    "# Reshape the data for CNN\n",
    "X_train_reshaped = X_train_scaled.reshape((X_train_scaled.shape[0], sequence_length, 1))\n",
    "X_test_reshaped = X_test_scaled.reshape((X_test_scaled.shape[0], sequence_length, 1))"
   ]
  },
  {
   "cell_type": "code",
   "execution_count": 13,
   "metadata": {},
   "outputs": [
    {
     "name": "stdout",
     "output_type": "stream",
     "text": [
      "Epoch 1/20\n",
      "1/1 [==============================] - 1s 547ms/step - loss: 0.0000e+00 - val_loss: 0.1610\n",
      "Epoch 2/20\n",
      "1/1 [==============================] - 0s 29ms/step - loss: 0.0000e+00 - val_loss: 0.1610\n",
      "Epoch 3/20\n",
      "1/1 [==============================] - 0s 27ms/step - loss: 0.0000e+00 - val_loss: 0.1610\n",
      "Epoch 4/20\n",
      "1/1 [==============================] - 0s 30ms/step - loss: 0.0000e+00 - val_loss: 0.1610\n",
      "Epoch 5/20\n",
      "1/1 [==============================] - 0s 32ms/step - loss: 0.0000e+00 - val_loss: 0.1610\n",
      "Epoch 6/20\n",
      "1/1 [==============================] - 0s 31ms/step - loss: 0.0000e+00 - val_loss: 0.1610\n",
      "Epoch 7/20\n",
      "1/1 [==============================] - 0s 28ms/step - loss: 0.0000e+00 - val_loss: 0.1610\n",
      "Epoch 8/20\n",
      "1/1 [==============================] - 0s 28ms/step - loss: 0.0000e+00 - val_loss: 0.1610\n",
      "Epoch 9/20\n",
      "1/1 [==============================] - 0s 28ms/step - loss: 0.0000e+00 - val_loss: 0.1610\n",
      "Epoch 10/20\n",
      "1/1 [==============================] - 0s 30ms/step - loss: 0.0000e+00 - val_loss: 0.1610\n",
      "Epoch 11/20\n",
      "1/1 [==============================] - 0s 33ms/step - loss: 0.0000e+00 - val_loss: 0.1610\n",
      "Epoch 12/20\n",
      "1/1 [==============================] - 0s 37ms/step - loss: 0.0000e+00 - val_loss: 0.1610\n",
      "Epoch 13/20\n",
      "1/1 [==============================] - 0s 33ms/step - loss: 0.0000e+00 - val_loss: 0.1610\n",
      "Epoch 14/20\n",
      "1/1 [==============================] - 0s 33ms/step - loss: 0.0000e+00 - val_loss: 0.1610\n",
      "Epoch 15/20\n",
      "1/1 [==============================] - 0s 30ms/step - loss: 0.0000e+00 - val_loss: 0.1610\n",
      "Epoch 16/20\n",
      "1/1 [==============================] - 0s 28ms/step - loss: 0.0000e+00 - val_loss: 0.1610\n",
      "Epoch 17/20\n",
      "1/1 [==============================] - 0s 27ms/step - loss: 0.0000e+00 - val_loss: 0.1610\n",
      "Epoch 18/20\n",
      "1/1 [==============================] - 0s 29ms/step - loss: 0.0000e+00 - val_loss: 0.1610\n",
      "Epoch 19/20\n",
      "1/1 [==============================] - 0s 28ms/step - loss: 0.0000e+00 - val_loss: 0.1610\n",
      "Epoch 20/20\n",
      "1/1 [==============================] - 0s 28ms/step - loss: 0.0000e+00 - val_loss: 0.1610\n",
      "1/1 [==============================] - 0s 24ms/step - loss: 0.1610\n",
      "Mean Squared Error on Test Data: 0.16103753447532654\n"
     ]
    }
   ],
   "source": [
    "# Build the CNN model\n",
    "model = Sequential()\n",
    "model.add(Conv1D(filters=64, kernel_size=2, activation='relu', input_shape=(sequence_length, 1)))\n",
    "model.add(MaxPooling1D(pool_size=2))\n",
    "model.add(Flatten())\n",
    "model.add(Dense(50, activation='relu'))\n",
    "model.add(Dense(1))  # Output layer with a single neuron for regression\n",
    "\n",
    "# Compile the model\n",
    "model.compile(optimizer='adam', loss='mse')\n",
    "\n",
    "# Train the model\n",
    "model.fit(X_train_reshaped, y_train, epochs=20, batch_size=32, validation_data=(X_test_reshaped, y_test))\n",
    "\n",
    "# Save the trained model\n",
    "model.save('trained_model.h5')\n",
    "\n",
    "# Evaluate the model\n",
    "loss = model.evaluate(X_test_reshaped, y_test)\n",
    "print(f'Mean Squared Error on Test Data: {loss}')"
   ]
  },
  {
   "cell_type": "code",
   "execution_count": 14,
   "metadata": {},
   "outputs": [
    {
     "name": "stdout",
     "output_type": "stream",
     "text": [
      "Predicted quantity for ProductID 102 on 2023-10-01 00:00:00: Insufficient historical data for prediction\n"
     ]
    }
   ],
   "source": [
    "# Function to make predictions for a specific date and product\n",
    "def predict_quantity(product_id, target_date, model, scaler):\n",
    "    # Extract sales data for the specified product\n",
    "    product_sales = sales_per_day.loc[product_id]\n",
    "\n",
    "    # Extract the sequence leading up to the target date\n",
    "    target_sequence = product_sales.loc[:target_date].tail(sequence_length)\n",
    "\n",
    "    # If there are not enough historical data, return an error message\n",
    "    if len(target_sequence) < sequence_length:\n",
    "        return \"Insufficient historical data for prediction\"\n",
    "\n",
    "    # Normalize the data\n",
    "    scaled_data = scaler.transform(np.array(target_sequence).reshape(1, -1))\n",
    "\n",
    "    # Reshape the data for CNN\n",
    "    input_data = scaled_data.reshape((1, sequence_length, 1))\n",
    "\n",
    "    # Make the prediction\n",
    "    predicted_quantity = model.predict(input_data)\n",
    "\n",
    "    # Inverse transform to get the actual predicted quantity\n",
    "    predicted_quantity = scaler.inverse_transform(predicted_quantity.reshape(-1, 1))\n",
    "\n",
    "    # Return the result\n",
    "    return predicted_quantity[0, 0]\n",
    "\n",
    "# Example: Predict quantity for ProductID 102 on a specific date\n",
    "product_id_to_predict = 102\n",
    "target_date_to_predict = pd.Timestamp('2023-10-01')\n",
    "\n",
    "predicted_quantity = predict_quantity(product_id_to_predict, target_date_to_predict, model, scaler)\n",
    "\n",
    "print(f'Predicted quantity for ProductID {product_id_to_predict} on {target_date_to_predict}: {predicted_quantity}')"
   ]
  },
  {
   "cell_type": "code",
   "execution_count": null,
   "metadata": {},
   "outputs": [],
   "source": []
  }
 ],
 "metadata": {
  "kernelspec": {
   "display_name": "Python 3",
   "language": "python",
   "name": "python3"
  },
  "language_info": {
   "codemirror_mode": {
    "name": "ipython",
    "version": 3
   },
   "file_extension": ".py",
   "mimetype": "text/x-python",
   "name": "python",
   "nbconvert_exporter": "python",
   "pygments_lexer": "ipython3",
   "version": "3.10.5"
  }
 },
 "nbformat": 4,
 "nbformat_minor": 2
}
